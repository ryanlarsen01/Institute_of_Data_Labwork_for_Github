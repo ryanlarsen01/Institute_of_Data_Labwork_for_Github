{
 "cells": [
  {
   "cell_type": "code",
   "execution_count": 7,
   "metadata": {
    "colab": {
     "base_uri": "https://localhost:8080/",
     "height": 296
    },
    "colab_type": "code",
    "executionInfo": {
     "elapsed": 891,
     "status": "ok",
     "timestamp": 1600167616381,
     "user": {
      "displayName": "Ahmed Fattah",
      "photoUrl": "https://lh3.googleusercontent.com/a-/AOh14GitMHdB1CnaPDlyYfp3SDTuxrJxvBO4uC3d04a2=s64",
      "userId": "02527647321416275528"
     },
     "user_tz": -600
    },
    "id": "aMCdgQhAk54r",
    "outputId": "a3654d99-edec-4b60-cfd2-1bb731bf6c23"
   },
   "outputs": [
    {
     "data": {
      "image/png": "[encoded data removed]",
      "text/plain": [
       "<Figure size 432x288 with 1 Axes>"
      ]
     },
     "metadata": {
      "needs_background": "light"
     },
     "output_type": "display_data"
    }
   ],
   "source": [
    "# My first Python program\n",
    "import matplotlib.pyplot as plt\n",
    "month = [\"Jan\", \"Feb\", \"Mar\", \"Apr\", \"Mar\"]\n",
    "sales = [50, 100, 200, 300, 500]\n",
    "plt.bar(month, sales)\n",
    "plt.xlabel('Month')\n",
    "plt.show()"
   ]
  },
  {
   "cell_type": "code",
   "execution_count": 2,
   "metadata": {},
   "outputs": [],
   "source": [
    "import pandas as pd"
   ]
  },
  {
   "cell_type": "markdown",
   "metadata": {},
   "source": [
    "2. Data visualizing "
   ]
  },
  {
   "cell_type": "code",
   "execution_count": null,
   "metadata": {},
   "outputs": [],
   "source": []
  }
 ],
 "metadata": {
  "colab": {
   "collapsed_sections": [],
   "name": "Lab0.ipynb",
   "provenance": []
  },
  "kernelspec": {
   "display_name": "Python 3 (ipykernel)",
   "language": "python",
   "name": "python3"
  },
  "language_info": {
   "codemirror_mode": {
    "name": "ipython",
    "version": 3
   },
   "file_extension": ".py",
   "mimetype": "text/x-python",
   "name": "python",
   "nbconvert_exporter": "python",
   "pygments_lexer": "ipython3",
   "version": "3.9.12"
  }
 },
 "nbformat": 4,
 "nbformat_minor": 1
}
